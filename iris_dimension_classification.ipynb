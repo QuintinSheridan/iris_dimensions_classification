{
 "cells": [
  {
   "cell_type": "markdown",
   "metadata": {},
   "source": [
    "## This notebook uses different classification models to classify Iris flowers based off of their dimensions.\n",
    "\n",
    "### The data set is in iris_flowers.csv.  The columns in the data set are:\n",
    "    sepal_length: Sepal length, in centimeters, used as input.\n",
    "    sepal_width: Sepal width, in centimeters, used as input.\n",
    "    petal_length: Petal length, in centimeters, used as input.\n",
    "    petal_width: Petal width, in centimeters, used as input.\n",
    "    class: Iris Setosa, Versicolor or Virginica, used as target."
   ]
  },
  {
   "cell_type": "code",
   "execution_count": 1,
   "metadata": {},
   "outputs": [],
   "source": [
    "# data preprocessing\n",
    "import pandas as pd\n",
    "import numpy as np\n",
    "from sklearn.model_selection import train_test_split\n",
    "from sklearn import preprocessing\n",
    "# estimaters\n",
    "from sklearn.ensemble import RandomForestClassifier\n",
    "from sklearn.linear_model import LogisticRegression\n",
    "from sklearn.svm import SVC\n",
    "\n",
    "# performance metrics\n",
    "from sklearn.metrics import f1_score\n",
    "from sklearn.metrics import classification_report\n"
   ]
  },
  {
   "cell_type": "code",
   "execution_count": 2,
   "metadata": {},
   "outputs": [],
   "source": [
    "def get_class_labels(row):\n",
    "    class_dict = {'iris_setosa':0, 'iris_versicolor':1, 'iris_virginica':2}\n",
    "    return class_dict[row['class']]"
   ]
  },
  {
   "cell_type": "code",
   "execution_count": 3,
   "metadata": {},
   "outputs": [],
   "source": [
    "def load_data():\n",
    "    '''Function to load in data set\n",
    "    Args:\n",
    "        None\n",
    "    Returns:\n",
    "        iris_df (df) df with iris data, columns ['sepal_length', 'sepal_width', 'petal_length', ' petal_width',\n",
    "           'iris_setosa', 'iris_versicolor', 'iris_virginica']\n",
    "    '''\n",
    "    iris_df = pd.read_csv('iris_flowers.csv')\n",
    "    iris_df['class_label'] = iris_df.apply(get_class_labels, axis=1)\n",
    "    \n",
    "    return iris_df"
   ]
  },
  {
   "cell_type": "code",
   "execution_count": 4,
   "metadata": {},
   "outputs": [],
   "source": [
    "def get_train_test(iris_df):    \n",
    "    '''Function to return train and test data, features are scaled to 0 mean and unit variance\n",
    "    Args:\n",
    "        iris_df (df): df with iris data\n",
    "    Returns:\n",
    "        X_train (2D np.array): train features\n",
    "        X_test (2D np.array): test features \n",
    "        Y_train (2D np.array): train labels\n",
    "        Y_test (2D np.array): test labels \n",
    "    '''\n",
    "    # get features and labels\n",
    "    Y = iris_df['class_label'].values\n",
    "    X = iris_df[['sepal_length', 'sepal_width', 'petal_length', ' petal_width']].values\n",
    "    # perform train test split\n",
    "    X_train, X_test, Y_train, Y_test = train_test_split(X, Y, test_size=0.33, random_state=42)\n",
    "    # transform features to have 0 mean and unit variance\n",
    "    scaler = preprocessing.StandardScaler().fit(X_train)\n",
    "    X_train = scaler.transform(X_train)\n",
    "    X_test = scaler.transform(X_test)\n",
    "    \n",
    "    class_dict = {0:'iris_setosa', 1:'iris_versicolor', 2:'iris_virginica'}\n",
    "    \n",
    "    # print train and test set distributions\n",
    "    for i in range(3):\n",
    "        print(f'{class_dict[i]}: train {(Y_train==i).sum()} test {(Y_test==i).sum()}')\n",
    "\n",
    "    return X_train, X_test, Y_train, Y_test\n",
    "\n",
    "#X_train, X_test, Y_train, Y_test = get_train_test(iris_df)"
   ]
  },
  {
   "cell_type": "code",
   "execution_count": 5,
   "metadata": {},
   "outputs": [],
   "source": [
    "def fit_predict(estimator, X_train, X_test, Y_train):\n",
    "    '''Function to fit and predict labels\n",
    "    Args:\n",
    "        estimator (sklearn estimator) type of estimator\n",
    "        X_train (2D np.array): train features\n",
    "        X_test (2D np.array): test features \n",
    "        Y_train (2D np.array): train labels\n",
    "    Returns:\n",
    "        Y_pred\n",
    "    '''\n",
    "    # instantiate model\n",
    "    model = estimator\n",
    "    # fit model\n",
    "    model.fit(X_train, Y_train)\n",
    "    # predict\n",
    "    Y_pred = model.predict(X_test)\n",
    "    \n",
    "    return Y_pred \n"
   ]
  },
  {
   "cell_type": "code",
   "execution_count": 16,
   "metadata": {},
   "outputs": [],
   "source": [
    "def main():\n",
    "    # load data\n",
    "    iris_df = load_data()\n",
    "    # perform train test split and feature scaling\n",
    "    X_train, X_test, Y_train, Y_test = get_train_test(iris_df)\n",
    "    models_dict = {'RandomForestClassifier':RandomForestClassifier(), 'LogisticRegression':LogisticRegression(), \n",
    "                  'svm':SVC()}\n",
    "\n",
    "    for model in models_dict:\n",
    "        print(f'Evaluating {model} model.')\n",
    "        # fit and predict\n",
    "        Y_pred = fit_predict(models_dict[model], X_train, X_test, Y_train)\n",
    "        # evaluate performance\n",
    "        print(classification_report(Y_test, Y_pred))\n",
    "        \n",
    "    Y_pred = fit_predict(SVC(), X_train, X_test, Y_train)\n",
    "    print(classification_report(Y_test, Y_pred))\n",
    "    "
   ]
  },
  {
   "cell_type": "code",
   "execution_count": 17,
   "metadata": {},
   "outputs": [
    {
     "name": "stdout",
     "output_type": "stream",
     "text": [
      "iris_setosa: train 31 test 19\n",
      "iris_versicolor: train 35 test 15\n",
      "iris_virginica: train 34 test 16\n",
      "              precision    recall  f1-score   support\n",
      "\n",
      "           0       1.00      1.00      1.00        19\n",
      "           1       0.94      1.00      0.97        15\n",
      "           2       1.00      0.94      0.97        16\n",
      "\n",
      "    accuracy                           0.98        50\n",
      "   macro avg       0.98      0.98      0.98        50\n",
      "weighted avg       0.98      0.98      0.98        50\n",
      "\n"
     ]
    }
   ],
   "source": [
    "main()"
   ]
  },
  {
   "cell_type": "code",
   "execution_count": null,
   "metadata": {},
   "outputs": [],
   "source": []
  }
 ],
 "metadata": {
  "kernelspec": {
   "display_name": "Python 3",
   "language": "python",
   "name": "python3"
  },
  "language_info": {
   "codemirror_mode": {
    "name": "ipython",
    "version": 3
   },
   "file_extension": ".py",
   "mimetype": "text/x-python",
   "name": "python",
   "nbconvert_exporter": "python",
   "pygments_lexer": "ipython3",
   "version": "3.6.8"
  }
 },
 "nbformat": 4,
 "nbformat_minor": 2
}
